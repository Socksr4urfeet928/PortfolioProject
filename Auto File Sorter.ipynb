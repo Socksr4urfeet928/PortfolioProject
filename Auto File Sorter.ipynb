{
 "cells": [
  {
   "cell_type": "markdown",
   "id": "8db0e01f",
   "metadata": {},
   "source": [
    "# Auto File Sorter"
   ]
  },
  {
   "cell_type": "code",
   "execution_count": 28,
   "id": "14fbcc63",
   "metadata": {},
   "outputs": [],
   "source": [
    "import os, shutil "
   ]
  },
  {
   "cell_type": "code",
   "execution_count": 29,
   "id": "e214b7fc",
   "metadata": {},
   "outputs": [],
   "source": [
    "path = r'E:/My Data Analyst projects/python/alex the analyst python file sorter/'"
   ]
  },
  {
   "cell_type": "code",
   "execution_count": 31,
   "id": "363e14da",
   "metadata": {},
   "outputs": [],
   "source": [
    "file_name=os.listdir(path)"
   ]
  },
  {
   "cell_type": "code",
   "execution_count": 32,
   "id": "8b1538aa",
   "metadata": {},
   "outputs": [],
   "source": [
    "folder_names=['csv files', 'text files', 'image files']\n",
    "\n",
    "for loop in range(0,3):\n",
    "   if not os.path.exists(path+ folder_names[loop]):\n",
    "    os.makedirs(path+ folder_names[loop])\n",
    "    \n",
    "    \n",
    "for file in file_name:\n",
    "    if \".csv\" in file and not os.path.exists(path+ \"csv files/\"+ file):\n",
    "        shutil.move(path+ file,path+ \"csv files/\"+ file)\n",
    "    elif \".png\" in file and not os.path.exists(path+ \"image files/\"+ file):\n",
    "        shutil.move(path+ file,path+ \"image files/\"+ file)\n",
    "    elif \".txt\" in file and not os.path.exists(path+ \"text files/\"+ file):\n",
    "        shutil.move(path+ file,path+ \"text files/\"+ file)"
   ]
  },
  {
   "cell_type": "code",
   "execution_count": 25,
   "id": "09d6e1da",
   "metadata": {},
   "outputs": [],
   "source": [
    "for file in file_name:\n",
    "    if \".csv\" in file and not os.path.exists(path+ \"csv files/\"+ file):\n",
    "        shutil.move(path+ file,path+ \"csv files/\"+ file)\n",
    "    elif \".png\" in file and not os.path.exists(path+ \"image files/\"+ file):\n",
    "        shutil.move(path+ file,path+ \"image files/\"+ file)\n",
    "    elif \".txt\" in file and not os.path.exists(path+ \"text files/\"+ file):\n",
    "        shutil.move(path+ file,path+ \"text files/\"+ file)"
   ]
  },
  {
   "cell_type": "code",
   "execution_count": null,
   "id": "13a11e18",
   "metadata": {},
   "outputs": [],
   "source": []
  },
  {
   "cell_type": "code",
   "execution_count": null,
   "id": "c4301781",
   "metadata": {},
   "outputs": [],
   "source": []
  },
  {
   "cell_type": "code",
   "execution_count": null,
   "id": "698e8462",
   "metadata": {},
   "outputs": [],
   "source": []
  },
  {
   "cell_type": "code",
   "execution_count": null,
   "id": "04b20b1c",
   "metadata": {},
   "outputs": [],
   "source": []
  },
  {
   "cell_type": "code",
   "execution_count": null,
   "id": "b645f6ca",
   "metadata": {},
   "outputs": [],
   "source": []
  },
  {
   "cell_type": "code",
   "execution_count": null,
   "id": "ef94f064",
   "metadata": {},
   "outputs": [],
   "source": []
  },
  {
   "cell_type": "code",
   "execution_count": null,
   "id": "a82ab154",
   "metadata": {},
   "outputs": [],
   "source": []
  }
 ],
 "metadata": {
  "kernelspec": {
   "display_name": "Python 3 (ipykernel)",
   "language": "python",
   "name": "python3"
  },
  "language_info": {
   "codemirror_mode": {
    "name": "ipython",
    "version": 3
   },
   "file_extension": ".py",
   "mimetype": "text/x-python",
   "name": "python",
   "nbconvert_exporter": "python",
   "pygments_lexer": "ipython3",
   "version": "3.10.9"
  }
 },
 "nbformat": 4,
 "nbformat_minor": 5
}
